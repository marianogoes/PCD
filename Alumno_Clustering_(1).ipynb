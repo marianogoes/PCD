{
  "nbformat": 4,
  "nbformat_minor": 0,
  "metadata": {
    "colab": {
      "provenance": [],
      "include_colab_link": true
    },
    "kernelspec": {
      "name": "python3",
      "display_name": "Python 3"
    },
    "language_info": {
      "name": "python"
    }
  },
  "cells": [
    {
      "cell_type": "markdown",
      "metadata": {
        "id": "view-in-github",
        "colab_type": "text"
      },
      "source": [
        "<a href=\"https://colab.research.google.com/github/marianogoes/PCD/blob/main/Alumno_Clustering_(1).ipynb\" target=\"_parent\"><img src=\"https://colab.research.google.com/assets/colab-badge.svg\" alt=\"Open In Colab\"/></a>"
      ]
    },
    {
      "cell_type": "markdown",
      "source": [
        "# Clustering o agrupamiento\n",
        "\n",
        "La idea principal de aplicar el clustering es para poder organizar los puntos que se dibujan en un plan en diferentes categorias o grupos. \n",
        "\n",
        "## K medias\n",
        "\n",
        "El algortimo de kmedias es uno de los mas simples y famosos ejemplos que podemos escuchar de los algoritmos de clustering. Estos son los pasos que se realizan para llevarlo a cabo:\n",
        "\n",
        "- Se selecciona el numero de clusters k que pienses que es numero optimo.\n",
        "- Se inicializan los k puntos como centroides de manera aleatoria dentro del espacio en donde estan distribuidos nuestros datos.\n",
        "- Relacionamos cada observacion son el centroide mas cercano.\n",
        "- Los centroides se actualizan al centro de todos los datos que se le atribuyeron en el paso anterior.\n",
        "- Estos ultimos dos pasos se repetiran hasta que todos los centroides esten estables.\n",
        "\n",
        "\n",
        "\n"
      ],
      "metadata": {
        "id": "Aox2u4fO3nNd"
      }
    },
    {
      "cell_type": "markdown",
      "source": [
        "A continuacion utilizaremos las herramientas que vimos en la clase asada para generar datos dummy y ejemplificar el uso del clustering."
      ],
      "metadata": {
        "id": "8bpPl4sy4mQf"
      }
    },
    {
      "cell_type": "code",
      "execution_count": 59,
      "metadata": {
        "colab": {
          "base_uri": "https://localhost:8080/",
          "height": 320
        },
        "id": "9Db2p64p0Tw6",
        "outputId": "d69e3973-9be4-4afb-944e-67f31953f322"
      },
      "outputs": [
        {
          "output_type": "display_data",
          "data": {
            "text/plain": [
              "<Figure size 360x360 with 1 Axes>"
            ],
            "image/png": "[encoded data removed]"
          },
          "metadata": {
            "needs_background": "light"
          }
        }
      ],
      "source": [
        "import numpy as np\n",
        "\n",
        "import matplotlib.pyplot as plt\n",
        "%matplotlib inline\n",
        "\n",
        "X = np.zeros((150, 2))\n",
        "\n",
        "np.random.seed(seed=42)\n",
        "X[:50, 0] = np.random.normal(loc=0.0, scale=.3, size=50)\n",
        "X[:50, 1] = np.random.normal(loc=0.0, scale=.3, size=50)\n",
        "\n",
        "X[50:100, 0] = np.random.normal(loc=2.0, scale=.5, size=50)\n",
        "X[50:100, 1] = np.random.normal(loc=-1.0, scale=.2, size=50)\n",
        "\n",
        "X[100:150, 0] = np.random.normal(loc=-1.0, scale=.2, size=50)\n",
        "X[100:150, 1] = np.random.normal(loc=2.0, scale=.5, size=50)\n",
        "\n",
        "plt.figure(figsize=(5, 5))\n",
        "plt.plot(X[:, 0], X[:, 1], 'bo');"
      ]
    },
    {
      "cell_type": "code",
      "source": [
        "from scipy.spatial.distance import cdist\n",
        "\n",
        "# Randomly allocate the 3 centroids \n",
        "np.random.seed(seed=42)\n",
        "centroids = np.random.normal(loc=0.0, scale=1., size=6)\n",
        "centroids = centroids.reshape((3, 2))\n",
        "\n",
        "cent_history = []\n",
        "cent_history.append(centroids)\n",
        "\n",
        "for i in range(3):\n",
        "    # Calculating the distance from a point to a centroid\n",
        "    distances = cdist(X, centroids)\n",
        "    # Checking what's the closest centroid for the point\n",
        "    labels = distances.argmin(axis=1)\n",
        "    \n",
        "    # Labeling the point according the point's distance\n",
        "    centroids = centroids.copy()\n",
        "    centroids[0, :] = np.mean(X[labels == 0, :], axis=0)\n",
        "    centroids[1, :] = np.mean(X[labels == 1, :], axis=0)\n",
        "    centroids[2, :] = np.mean(X[labels == 2, :], axis=0)\n",
        "    \n",
        "    cent_history.append(centroids)"
      ],
      "metadata": {
        "id": "nT9gOhwQ0pve"
      },
      "execution_count": 60,
      "outputs": []
    },
    {
      "cell_type": "code",
      "source": [
        "plt.figure(figsize=(8, 8))\n",
        "for i in range(4):\n",
        "    distances = cdist(X, cent_history[i])\n",
        "    labels = distances.argmin(axis=1)\n",
        "    \n",
        "    plt.subplot(2, 2, i + 1)\n",
        "    plt.plot(X[labels == 0, 0], X[labels == 0, 1], 'bo', label='cluster #1')\n",
        "    plt.plot(X[labels == 1, 0], X[labels == 1, 1], 'co', label='cluster #2')\n",
        "    plt.plot(X[labels == 2, 0], X[labels == 2, 1], 'mo', label='cluster #3')\n",
        "    plt.plot(cent_history[i][:, 0], cent_history[i][:, 1], 'rX')\n",
        "    plt.legend(loc=0)\n",
        "    plt.title('Step {:}'.format(i + 1));"
      ],
      "metadata": {
        "colab": {
          "base_uri": "https://localhost:8080/",
          "height": 499
        },
        "id": "vuB3Uh2U0tfP",
        "outputId": "e5b43bd3-9995-4c0c-bf25-336f5cece5f5"
      },
      "execution_count": 61,
      "outputs": [
        {
          "output_type": "display_data",
          "data": {
            "text/plain": [
              "<Figure size 576x576 with 4 Axes>"
            ],
            "image/png": "[encoded data removed]"
          },
          "metadata": {
            "needs_background": "light"
          }
        }
      ]
    },
    {
      "cell_type": "code",
      "source": [
        "labels"
      ],
      "metadata": {
        "colab": {
          "base_uri": "https://localhost:8080/",
          "height": 0
        },
        "id": "SITQTQRXYoMD",
        "outputId": "23e11365-e114-4c00-a9b1-78f67e367b67"
      },
      "execution_count": 63,
      "outputs": [
        {
          "output_type": "execute_result",
          "data": {
            "text/plain": [
              "array([2, 2, 2, 2, 2, 2, 2, 2, 2, 2, 2, 2, 2, 2, 2, 2, 2, 2, 2, 2, 2, 2,\n",
              "       2, 2, 2, 2, 2, 2, 2, 2, 2, 2, 2, 2, 2, 2, 2, 2, 2, 2, 2, 2, 2, 2,\n",
              "       2, 2, 2, 2, 2, 2, 0, 0, 0, 0, 0, 0, 0, 0, 0, 0, 0, 0, 0, 0, 0, 0,\n",
              "       0, 0, 0, 0, 0, 0, 0, 0, 0, 0, 0, 0, 0, 0, 0, 0, 0, 0, 0, 0, 0, 0,\n",
              "       0, 0, 0, 0, 0, 0, 0, 0, 0, 0, 0, 0, 1, 1, 1, 1, 1, 1, 1, 1, 1, 1,\n",
              "       1, 1, 2, 1, 1, 1, 1, 1, 1, 1, 1, 1, 1, 1, 1, 1, 1, 1, 1, 1, 1, 1,\n",
              "       1, 1, 1, 1, 1, 1, 1, 1, 1, 1, 1, 1, 1, 1, 1, 1, 1, 1])"
            ]
          },
          "metadata": {},
          "execution_count": 63
        }
      ]
    },
    {
      "cell_type": "markdown",
      "source": [
        "Como vemos comunmente, en este ejemplo utilizamos la medida de distancia euclidiana (el algoritmo va a converger con cualquier otra metrica). Algunas de las caracteristicas que puedes tomar en cuenta para poder mejorar o cambiar tus resultados es el criterio de convergencia o la medida de distancia que utilizas entre los puntos de los datos y los centroides."
      ],
      "metadata": {
        "id": "7PeWPJo74ymM"
      }
    },
    {
      "cell_type": "markdown",
      "source": [
        "### ¿Como podemos eleguir el criterio de numero de clusters?\n",
        "\n",
        "Haciendo contraste con herramientas de aprendizaje supervisado, en donde tenemos problemas de clasificacion o regresion, el agrupamiento requiere mas esfuerzo para elegir el criterio de optimizacion. Usualmente, cuando se trabaja con kmedias, debemos de optimizar la suma de las distancias cuadradas entre las observaciones o puntos y sus centroides. Para esto tenemos la siguiente formula:\n",
        "\n",
        "\\begin{align}\n",
        "        J(C) = \\sum_{k=1}^K \\sum_{i \\in C_k}|| x_i - \\mu_k || \\rightarrow \\min_C\n",
        "\\end{align}\n",
        "\n",
        "En donde interpretamos a C como el conjunto de clusters a la potencia k. $\\mu_k$ es el centroide de un cluster $C_k$.\n",
        "\n",
        "Esta definicion pareceria estar correcta, sin embargo, sin restriccion, el optimo se alcanza cuando el numero de centroides sea igual al numero de observaciones, por lo que cada uno de los puntos terminaria con su propio cluster. Para evitar sto, tenemos la funcion:\n",
        "\n",
        "\\begin{align}\n",
        "        D(k) = \\frac{|J(C_k) - J(C_{k+1})|}{|J(C_{k-1} - J(C_k))|} \\rightarrow \\min_k\n",
        "\\end{align}"
      ],
      "metadata": {
        "id": "58nCRWMT5SEZ"
      }
    },
    {
      "cell_type": "code",
      "source": [
        "from sklearn.cluster import KMeans"
      ],
      "metadata": {
        "id": "V09m_gjL00MI"
      },
      "execution_count": null,
      "outputs": []
    },
    {
      "cell_type": "code",
      "source": [
        "inertia = []\n",
        "for k in range(1, 8):\n",
        "    kmeans = KMeans(n_clusters=k, random_state=1).fit(X)\n",
        "    inertia.append(np.sqrt(kmeans.inertia_))"
      ],
      "metadata": {
        "id": "_nrsKTpw03Cn"
      },
      "execution_count": null,
      "outputs": []
    },
    {
      "cell_type": "code",
      "source": [
        "plt.plot(range(1, 8), inertia, marker='s');\n",
        "plt.xlabel('$k$')\n",
        "plt.ylabel('$J(C_k)$')"
      ],
      "metadata": {
        "colab": {
          "base_uri": "https://localhost:8080/",
          "height": 298
        },
        "id": "NUA7HrwU055Z",
        "outputId": "b448bf0e-0d89-44ef-94ba-9100c976a473"
      },
      "execution_count": null,
      "outputs": [
        {
          "output_type": "execute_result",
          "data": {
            "text/plain": [
              "Text(0, 0.5, '$J(C_k)$')"
            ]
          },
          "metadata": {},
          "execution_count": 8
        },
        {
          "output_type": "display_data",
          "data": {
            "text/plain": [
              "<Figure size 432x288 with 1 Axes>"
            ],
            "image/png": "[encoded data removed]"
          },
          "metadata": {
            "needs_background": "light"
          }
        }
      ]
    },
    {
      "cell_type": "markdown",
      "source": [
        "Con esta funcion vemos que $J(C_k)$ llega hasta el punto 3, en donde a partir de ahi no tiene cambios grandes, por lo que podemos inferir que ese es el valor optimo de clusters."
      ],
      "metadata": {
        "id": "6Bm4-Vzw8H6Q"
      }
    },
    {
      "cell_type": "markdown",
      "source": [
        "Este tipo de problema es np-dificil, ya que su complejidad va en aumento dependiento de las dimensiones, los clusters y el numero de observaciones. La implementacion de este tipo de problema con sklearn tiene la ventaja de su funcion de inicializacion default nos ayuda a identificar centroides robustos. (Existen elementos de programacion en paralelo que tambien pueden implementarse en esta libreria que mejora el tiempo y capacidad computacional del problema)."
      ],
      "metadata": {
        "id": "UWZMbV1L8deC"
      }
    },
    {
      "cell_type": "markdown",
      "source": [
        "Existe otra version del algoritmo llamado agrupacion aglomerativa. Esta se encuentra en una libreria llamada scipy. No entraremos a detalle, pero es una opcion que pueden explorar por su cuenta."
      ],
      "metadata": {
        "id": "oIfpZNi39JL-"
      }
    },
    {
      "cell_type": "code",
      "source": [
        "from scipy.cluster import hierarchy\n",
        "from scipy.spatial.distance import pdist\n",
        "\n",
        "X = np.zeros((150, 2))\n",
        "\n",
        "np.random.seed(seed=42)\n",
        "X[:50, 0] = np.random.normal(loc=0.0, scale=.3, size=50)\n",
        "X[:50, 1] = np.random.normal(loc=0.0, scale=.3, size=50)\n",
        "\n",
        "X[50:100, 0] = np.random.normal(loc=2.0, scale=.5, size=50)\n",
        "X[50:100, 1] = np.random.normal(loc=-1.0, scale=.2, size=50)\n",
        "\n",
        "X[100:150, 0] = np.random.normal(loc=-1.0, scale=.2, size=50)\n",
        "X[100:150, 1] = np.random.normal(loc=2.0, scale=.5, size=50)\n",
        "\n",
        "# pdist will calculate the upper triangle of the pairwise distance matrix\n",
        "distance_mat = pdist(X) \n",
        "# linkage — is an implementation if agglomerative algorithm\n",
        "Z = hierarchy.linkage(distance_mat, 'single')\n",
        "plt.figure(figsize=(10, 5))\n",
        "dn = hierarchy.dendrogram(Z, color_threshold=0.5)"
      ],
      "metadata": {
        "colab": {
          "base_uri": "https://localhost:8080/",
          "height": 319
        },
        "id": "Qactw5hy0_Tp",
        "outputId": "932cd21d-a664-483c-9518-ae6758c37145"
      },
      "execution_count": null,
      "outputs": [
        {
          "output_type": "display_data",
          "data": {
            "text/plain": [
              "<Figure size 720x360 with 1 Axes>"
            ],
            "image/png": "[encoded data removed]"
          },
          "metadata": {
            "needs_background": "light"
          }
        }
      ]
    },
    {
      "cell_type": "markdown",
      "source": [
        "# Practica:\n",
        "\n",
        "Utilizando la libreria de sklearn y la base de datos de iris, realiza el proceso de kmeans. Recuerda que es importante que realices tambien la parte del PCA para reducir dimensiones."
      ],
      "metadata": {
        "id": "oFDTrDgu1TJZ"
      }
    },
    {
      "cell_type": "code",
      "source": [
        "from google.colab import drive\n",
        "drive.mount('/content/drive')"
      ],
      "metadata": {
        "colab": {
          "base_uri": "https://localhost:8080/",
          "height": 0
        },
        "id": "C2PwRZ7lgVoI",
        "outputId": "0b607ab8-94dc-4da1-8448-4c538c7423e3"
      },
      "execution_count": 6,
      "outputs": [
        {
          "output_type": "stream",
          "name": "stdout",
          "text": [
            "Mounted at /content/drive\n"
          ]
        }
      ]
    },
    {
      "cell_type": "code",
      "execution_count": 33,
      "metadata": {
        "id": "rFN5eFW6WkJa"
      },
      "outputs": [],
      "source": [
        "import pandas as pd\n",
        "data = pd.read_csv('/content/drive/MyDrive/DataSets/Iris.csv')"
      ]
    },
    {
      "cell_type": "code",
      "source": [
        "import numpy as np\n",
        "import pandas as pd\n",
        "import matplotlib.pyplot as plt\n",
        "%matplotlib inline\n",
        "from sklearn.decomposition import PCA    #algoritmo de PCA\n"
      ],
      "metadata": {
        "id": "u3AZjcJq1fDr"
      },
      "execution_count": 39,
      "outputs": []
    },
    {
      "cell_type": "code",
      "source": [
        "from sklearn.cluster import KMeans\n"
      ],
      "metadata": {
        "id": "mEm5Lvlz2ZtI"
      },
      "execution_count": 4,
      "outputs": []
    },
    {
      "cell_type": "code",
      "source": [
        "data.head()"
      ],
      "metadata": {
        "colab": {
          "base_uri": "https://localhost:8080/",
          "height": 206
        },
        "id": "uCTDzNhkNh4k",
        "outputId": "ca4a472a-e4bb-4dde-8315-d6a72f9ffc5f"
      },
      "execution_count": 34,
      "outputs": [
        {
          "output_type": "execute_result",
          "data": {
            "text/plain": [
              "   Id  SepalLengthCm  SepalWidthCm  PetalLengthCm  PetalWidthCm      Species\n",
              "0   1            5.1           3.5            1.4           0.2  Iris-setosa\n",
              "1   2            4.9           3.0            1.4           0.2  Iris-setosa\n",
              "2   3            4.7           3.2            1.3           0.2  Iris-setosa\n",
              "3   4            4.6           3.1            1.5           0.2  Iris-setosa\n",
              "4   5            5.0           3.6            1.4           0.2  Iris-setosa"
            ],
            "text/html": [
              "\n",
              "  <div id=\"df-aeb47406-0b96-42c1-a2ab-a8752305bfa1\">\n",
              "    <div class=\"colab-df-container\">\n",
              "      <div>\n",
              "<style scoped>\n",
              "    .dataframe tbody tr th:only-of-type {\n",
              "        vertical-align: middle;\n",
              "    }\n",
              "\n",
              "    .dataframe tbody tr th {\n",
              "        vertical-align: top;\n",
              "    }\n",
              "\n",
              "    .dataframe thead th {\n",
              "        text-align: right;\n",
              "    }\n",
              "</style>\n",
              "<table border=\"1\" class=\"dataframe\">\n",
              "  <thead>\n",
              "    <tr style=\"text-align: right;\">\n",
              "      <th></th>\n",
              "      <th>Id</th>\n",
              "      <th>SepalLengthCm</th>\n",
              "      <th>SepalWidthCm</th>\n",
              "      <th>PetalLengthCm</th>\n",
              "      <th>PetalWidthCm</th>\n",
              "      <th>Species</th>\n",
              "    </tr>\n",
              "  </thead>\n",
              "  <tbody>\n",
              "    <tr>\n",
              "      <th>0</th>\n",
              "      <td>1</td>\n",
              "      <td>5.1</td>\n",
              "      <td>3.5</td>\n",
              "      <td>1.4</td>\n",
              "      <td>0.2</td>\n",
              "      <td>Iris-setosa</td>\n",
              "    </tr>\n",
              "    <tr>\n",
              "      <th>1</th>\n",
              "      <td>2</td>\n",
              "      <td>4.9</td>\n",
              "      <td>3.0</td>\n",
              "      <td>1.4</td>\n",
              "      <td>0.2</td>\n",
              "      <td>Iris-setosa</td>\n",
              "    </tr>\n",
              "    <tr>\n",
              "      <th>2</th>\n",
              "      <td>3</td>\n",
              "      <td>4.7</td>\n",
              "      <td>3.2</td>\n",
              "      <td>1.3</td>\n",
              "      <td>0.2</td>\n",
              "      <td>Iris-setosa</td>\n",
              "    </tr>\n",
              "    <tr>\n",
              "      <th>3</th>\n",
              "      <td>4</td>\n",
              "      <td>4.6</td>\n",
              "      <td>3.1</td>\n",
              "      <td>1.5</td>\n",
              "      <td>0.2</td>\n",
              "      <td>Iris-setosa</td>\n",
              "    </tr>\n",
              "    <tr>\n",
              "      <th>4</th>\n",
              "      <td>5</td>\n",
              "      <td>5.0</td>\n",
              "      <td>3.6</td>\n",
              "      <td>1.4</td>\n",
              "      <td>0.2</td>\n",
              "      <td>Iris-setosa</td>\n",
              "    </tr>\n",
              "  </tbody>\n",
              "</table>\n",
              "</div>\n",
              "      <button class=\"colab-df-convert\" onclick=\"convertToInteractive('df-aeb47406-0b96-42c1-a2ab-a8752305bfa1')\"\n",
              "              title=\"Convert this dataframe to an interactive table.\"\n",
              "              style=\"display:none;\">\n",
              "        \n",
              "  <svg xmlns=\"http://www.w3.org/2000/svg\" height=\"24px\"viewBox=\"0 0 24 24\"\n",
              "       width=\"24px\">\n",
              "    <path d=\"M0 0h24v24H0V0z\" fill=\"none\"/>\n",
              "    <path d=\"M18.56 5.44l.94 2.06.94-2.06 2.06-.94-2.06-.94-.94-2.06-.94 2.06-2.06.94zm-11 1L8.5 8.5l.94-2.06 2.06-.94-2.06-.94L8.5 2.5l-.94 2.06-2.06.94zm10 10l.94 2.06.94-2.06 2.06-.94-2.06-.94-.94-2.06-.94 2.06-2.06.94z\"/><path d=\"M17.41 7.96l-1.37-1.37c-.4-.4-.92-.59-1.43-.59-.52 0-1.04.2-1.43.59L10.3 9.45l-7.72 7.72c-.78.78-.78 2.05 0 2.83L4 21.41c.39.39.9.59 1.41.59.51 0 1.02-.2 1.41-.59l7.78-7.78 2.81-2.81c.8-.78.8-2.07 0-2.86zM5.41 20L4 18.59l7.72-7.72 1.47 1.35L5.41 20z\"/>\n",
              "  </svg>\n",
              "      </button>\n",
              "      \n",
              "  <style>\n",
              "    .colab-df-container {\n",
              "      display:flex;\n",
              "      flex-wrap:wrap;\n",
              "      gap: 12px;\n",
              "    }\n",
              "\n",
              "    .colab-df-convert {\n",
              "      background-color: #E8F0FE;\n",
              "      border: none;\n",
              "      border-radius: 50%;\n",
              "      cursor: pointer;\n",
              "      display: none;\n",
              "      fill: #1967D2;\n",
              "      height: 32px;\n",
              "      padding: 0 0 0 0;\n",
              "      width: 32px;\n",
              "    }\n",
              "\n",
              "    .colab-df-convert:hover {\n",
              "      background-color: #E2EBFA;\n",
              "      box-shadow: 0px 1px 2px rgba(60, 64, 67, 0.3), 0px 1px 3px 1px rgba(60, 64, 67, 0.15);\n",
              "      fill: #174EA6;\n",
              "    }\n",
              "\n",
              "    [theme=dark] .colab-df-convert {\n",
              "      background-color: #3B4455;\n",
              "      fill: #D2E3FC;\n",
              "    }\n",
              "\n",
              "    [theme=dark] .colab-df-convert:hover {\n",
              "      background-color: #434B5C;\n",
              "      box-shadow: 0px 1px 3px 1px rgba(0, 0, 0, 0.15);\n",
              "      filter: drop-shadow(0px 1px 2px rgba(0, 0, 0, 0.3));\n",
              "      fill: #FFFFFF;\n",
              "    }\n",
              "  </style>\n",
              "\n",
              "      <script>\n",
              "        const buttonEl =\n",
              "          document.querySelector('#df-aeb47406-0b96-42c1-a2ab-a8752305bfa1 button.colab-df-convert');\n",
              "        buttonEl.style.display =\n",
              "          google.colab.kernel.accessAllowed ? 'block' : 'none';\n",
              "\n",
              "        async function convertToInteractive(key) {\n",
              "          const element = document.querySelector('#df-aeb47406-0b96-42c1-a2ab-a8752305bfa1');\n",
              "          const dataTable =\n",
              "            await google.colab.kernel.invokeFunction('convertToInteractive',\n",
              "                                                     [key], {});\n",
              "          if (!dataTable) return;\n",
              "\n",
              "          const docLinkHtml = 'Like what you see? Visit the ' +\n",
              "            '<a target=\"_blank\" href=https://colab.research.google.com/notebooks/data_table.ipynb>data table notebook</a>'\n",
              "            + ' to learn more about interactive tables.';\n",
              "          element.innerHTML = '';\n",
              "          dataTable['output_type'] = 'display_data';\n",
              "          await google.colab.output.renderOutput(dataTable, element);\n",
              "          const docLink = document.createElement('div');\n",
              "          docLink.innerHTML = docLinkHtml;\n",
              "          element.appendChild(docLink);\n",
              "        }\n",
              "      </script>\n",
              "    </div>\n",
              "  </div>\n",
              "  "
            ]
          },
          "metadata": {},
          "execution_count": 34
        }
      ]
    },
    {
      "cell_type": "code",
      "source": [
        "data.info()"
      ],
      "metadata": {
        "colab": {
          "base_uri": "https://localhost:8080/",
          "height": 0
        },
        "id": "RwuoIH1hON0G",
        "outputId": "a0003a17-f897-40be-e78f-97e7ed0f76d1"
      },
      "execution_count": 35,
      "outputs": [
        {
          "output_type": "stream",
          "name": "stdout",
          "text": [
            "<class 'pandas.core.frame.DataFrame'>\n",
            "RangeIndex: 150 entries, 0 to 149\n",
            "Data columns (total 6 columns):\n",
            " #   Column         Non-Null Count  Dtype  \n",
            "---  ------         --------------  -----  \n",
            " 0   Id             150 non-null    int64  \n",
            " 1   SepalLengthCm  150 non-null    float64\n",
            " 2   SepalWidthCm   150 non-null    float64\n",
            " 3   PetalLengthCm  150 non-null    float64\n",
            " 4   PetalWidthCm   150 non-null    float64\n",
            " 5   Species        150 non-null    object \n",
            "dtypes: float64(4), int64(1), object(1)\n",
            "memory usage: 7.2+ KB\n"
          ]
        }
      ]
    },
    {
      "cell_type": "code",
      "source": [
        "X=data[['SepalLengthCm','SepalWidthCm','PetalLengthCm','PetalWidthCm']]\n",
        "Y=data.Species"
      ],
      "metadata": {
        "id": "ba_RDgVdQJe3"
      },
      "execution_count": 86,
      "outputs": []
    },
    {
      "cell_type": "code",
      "source": [
        "inertia = []\n",
        "for k in range(1, 8):\n",
        "    kmeans = KMeans(n_clusters=k, random_state=1).fit(X)\n",
        "    inertia.append(np.sqrt(kmeans.inertia_))"
      ],
      "metadata": {
        "id": "be5aXY-IMjVE"
      },
      "execution_count": 40,
      "outputs": []
    },
    {
      "cell_type": "code",
      "source": [
        "plt.plot(range(1, 8), inertia, marker='s');\n",
        "plt.xlabel('$k$')\n",
        "plt.ylabel('$J(C_k)$')"
      ],
      "metadata": {
        "colab": {
          "base_uri": "https://localhost:8080/",
          "height": 298
        },
        "id": "6-SbccZmRHf2",
        "outputId": "d05f6174-3eba-4b36-cd6d-691a6b43693a"
      },
      "execution_count": 41,
      "outputs": [
        {
          "output_type": "execute_result",
          "data": {
            "text/plain": [
              "Text(0, 0.5, '$J(C_k)$')"
            ]
          },
          "metadata": {},
          "execution_count": 41
        },
        {
          "output_type": "display_data",
          "data": {
            "text/plain": [
              "<Figure size 432x288 with 1 Axes>"
            ],
            "image/png": "[encoded data removed]"
          },
          "metadata": {
            "needs_background": "light"
          }
        }
      ]
    },
    {
      "cell_type": "markdown",
      "source": [
        "El último nivel de cambio considerable se da entre el 2 y el 3 valor de k por lo que se elegirá 3, ya que con 4 los recursos ya no estarían bien optimizados"
      ],
      "metadata": {
        "id": "yBW15DQOSnqr"
      }
    },
    {
      "cell_type": "code",
      "source": [
        "from sklearn.decomposition import PCA\n",
        "from sklearn.preprocessing import StandardScaler"
      ],
      "metadata": {
        "id": "tbA3oRekZNjf"
      },
      "execution_count": 71,
      "outputs": []
    },
    {
      "cell_type": "code",
      "source": [
        "scaler=StandardScaler()\n",
        "scaler.fit(X)\n",
        "X_scaled=scaler.transform(X)\n",
        "pca=PCA(.85)\n",
        "pca.fit(X_scaled)\n",
        "X_pca=pca.transform(X_scaled)\n",
        "print(\"shape of X_pca\", X_pca.shape)\n",
        "expl = pca.explained_variance_ratio_\n",
        "print(expl)\n",
        "print('suma:',sum(expl[0:4]))"
      ],
      "metadata": {
        "colab": {
          "base_uri": "https://localhost:8080/",
          "height": 0
        },
        "id": "-v3vP69SZdGe",
        "outputId": "74f77fae-ee44-4b5a-8f62-a06b0bfc91cb"
      },
      "execution_count": 78,
      "outputs": [
        {
          "output_type": "stream",
          "name": "stdout",
          "text": [
            "shape of X_pca (150, 2)\n",
            "[0.72770452 0.23030523]\n",
            "suma: 0.9580097536148197\n"
          ]
        }
      ]
    },
    {
      "cell_type": "code",
      "source": [
        "kmeans = KMeans(n_clusters=3).fit(X_pca)\n",
        "centroids = kmeans.cluster_centers_\n",
        "print(centroids)"
      ],
      "metadata": {
        "colab": {
          "base_uri": "https://localhost:8080/",
          "height": 0
        },
        "id": "9S6iMW_WS9eI",
        "outputId": "d0669e83-07f2-43d9-953b-2f78df2cb31e"
      },
      "execution_count": 79,
      "outputs": [
        {
          "output_type": "stream",
          "name": "stdout",
          "text": [
            "[[ 0.61198392 -0.79925263]\n",
            " [-2.22019328  0.29222482]\n",
            " [ 1.71890108  0.65217008]]\n"
          ]
        }
      ]
    },
    {
      "cell_type": "code",
      "source": [
        "import matplotlib.pyplot as plt\n",
        "%matplotlib inline\n",
        "\n",
        "with plt.style.context('seaborn-whitegrid'):\n",
        "    plt.figure(figsize=(6, 4))\n",
        "    for lab, col in zip(('Iris-setosa', 'Iris-versicolor', 'Iris-virginica'), ('blue', 'red', 'green')):\n",
        "        plt.scatter(X_pca[Y==lab, 0], X_pca[Y==lab, 1], label=lab, c=col)\n",
        "    plt.xlabel('Principal Component 1')\n",
        "    plt.ylabel('Principal Component 2')\n",
        "    plt.plot(centroids[:, 0], centroids[:, 1], 'rX', color='orange', markersize=12)\n",
        "    plt.legend(loc='upper center')\n",
        "    plt.tight_layout()\n",
        "    plt.show()"
      ],
      "metadata": {
        "colab": {
          "base_uri": "https://localhost:8080/",
          "height": 297
        },
        "id": "XAK6sz_wVH9K",
        "outputId": "7348d25e-fac5-419b-d2e5-8b74eeee617e"
      },
      "execution_count": 91,
      "outputs": [
        {
          "output_type": "display_data",
          "data": {
            "text/plain": [
              "<Figure size 432x288 with 1 Axes>"
            ],
            "image/png": "[encoded data removed]"
          },
          "metadata": {}
        }
      ]
    },
    {
      "cell_type": "markdown",
      "source": [
        "."
      ],
      "metadata": {
        "id": "VCdPfpjDidOY"
      }
    },
    {
      "cell_type": "markdown",
      "source": [
        "##Conclusiones\n",
        "\n",
        "Es claro que el centroide asociado a Iris-setosa es el mejor definido de los tres debido a que su grupo está más separado a los otros dos, de hecho el centroide ubicado cerca de versicolor tiene muchos verdes cercanos que podrían estar afectando en la clasificación"
      ],
      "metadata": {
        "id": "hdFhf2IZfvZY"
      }
    }
  ]
}